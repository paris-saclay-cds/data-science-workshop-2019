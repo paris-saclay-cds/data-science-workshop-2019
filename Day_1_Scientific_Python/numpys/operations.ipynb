{
 "cells": [
  {
   "cell_type": "markdown",
   "metadata": {},
   "source": [
    "## Operations\n",
    "\n",
    "Arrays also know how to perform common mathematical operations on their values. The simplest operations with data are arithmetic: addition, subtraction, multiplication, and division. When you do such operations on arrays, the operation is done element-by-element. <br>"
   ]
  },
  {
   "cell_type": "code",
   "execution_count": 32,
   "metadata": {},
   "outputs": [],
   "source": [
    "import numpy as np"
   ]
  },
  {
   "cell_type": "code",
   "execution_count": 33,
   "metadata": {},
   "outputs": [],
   "source": [
    "data = np.loadtxt(fname='../data/inflammation-01.csv', delimiter=',')"
   ]
  },
  {
   "cell_type": "code",
   "execution_count": 34,
   "metadata": {},
   "outputs": [
    {
     "name": "stdout",
     "output_type": "stream",
     "text": [
      "[[0. 0. 2. ... 6. 0. 0.]\n",
      " [0. 2. 4. ... 2. 0. 2.]\n",
      " [0. 2. 2. ... 4. 2. 2.]\n",
      " ...\n",
      " [0. 2. 2. ... 2. 2. 2.]\n",
      " [0. 0. 0. ... 0. 4. 0.]\n",
      " [0. 0. 2. ... 2. 2. 0.]]\n"
     ]
    }
   ],
   "source": [
    "doubledata = data + data\n",
    "print(doubledata)"
   ]
  },
  {
   "cell_type": "markdown",
   "metadata": {},
   "source": [
    "Operations by scalar:"
   ]
  },
  {
   "cell_type": "code",
   "execution_count": 35,
   "metadata": {},
   "outputs": [
    {
     "name": "stdout",
     "output_type": "stream",
     "text": [
      "[[0. 0. 3. ... 9. 0. 0.]\n",
      " [0. 3. 6. ... 3. 0. 3.]\n",
      " [0. 3. 3. ... 6. 3. 3.]\n",
      " ...\n",
      " [0. 3. 3. ... 3. 3. 3.]\n",
      " [0. 0. 0. ... 0. 6. 0.]\n",
      " [0. 0. 3. ... 3. 3. 0.]]\n"
     ]
    }
   ],
   "source": [
    "tripledata = data * 3\n",
    "print(tripledata)"
   ]
  },
  {
   "cell_type": "markdown",
   "metadata": {},
   "source": [
    "One of the advantages of NumPy is that it allows to apply functions (called ufuncs) to all elements of an array without the need of `for` loops:"
   ]
  },
  {
   "cell_type": "code",
   "execution_count": 36,
   "metadata": {},
   "outputs": [
    {
     "data": {
      "text/plain": [
       "array([ 0.        ,  0.        ,  0.84147098,  0.14112001,  0.84147098,\n",
       "        0.90929743, -0.7568025 ,  0.6569866 ,  0.98935825,  0.14112001,\n",
       "        0.14112001,  0.14112001, -0.54402111, -0.95892427,  0.6569866 ,\n",
       "       -0.7568025 ,  0.6569866 ,  0.6569866 , -0.53657292, -0.75098725,\n",
       "       -0.2794155 ,  0.42016704, -0.99999021, -0.99999021,  0.6569866 ,\n",
       "        0.6569866 , -0.7568025 , -0.2794155 ,  0.98935825,  0.98935825,\n",
       "       -0.7568025 , -0.7568025 , -0.95892427,  0.6569866 ,  0.14112001,\n",
       "       -0.7568025 ,  0.90929743,  0.14112001,  0.        ,  0.        ])"
      ]
     },
     "execution_count": 36,
     "metadata": {},
     "output_type": "execute_result"
    }
   ],
   "source": [
    "np.sin(data[0,:])"
   ]
  },
  {
   "cell_type": "markdown",
   "metadata": {},
   "source": [
    "This is not only convenient but also more efficient than iterating through the elements using for loops."
   ]
  },
  {
   "cell_type": "code",
   "execution_count": 37,
   "metadata": {},
   "outputs": [
    {
     "name": "stdout",
     "output_type": "stream",
     "text": [
      "[[ 1.          1.          2.71828183 ... 20.08553692  1.\n",
      "   1.        ]\n",
      " [ 1.          2.71828183  7.3890561  ...  2.71828183  1.\n",
      "   2.71828183]\n",
      " [ 1.          2.71828183  2.71828183 ...  7.3890561   2.71828183\n",
      "   2.71828183]\n",
      " ...\n",
      " [ 1.          2.71828183  2.71828183 ...  2.71828183  2.71828183\n",
      "   2.71828183]\n",
      " [ 1.          1.          1.         ...  1.          7.3890561\n",
      "   1.        ]\n",
      " [ 1.          1.          2.71828183 ...  2.71828183  2.71828183\n",
      "   1.        ]]\n"
     ]
    }
   ],
   "source": [
    "expdata = np.exp(data)\n",
    "print(expdata)"
   ]
  },
  {
   "cell_type": "markdown",
   "metadata": {},
   "source": [
    "**Warning** Standard Python installation also includes the `math` library, but it does not play nicely with NumPy array and it may give different results than numpy function, so avoid using it with NumPy arrays.\n",
    "\n",
    "Some functions (such as mean, max, etc.) aggregate the data return arrays of less dimensions or scalars:"
   ]
  },
  {
   "cell_type": "code",
   "execution_count": 38,
   "metadata": {},
   "outputs": [
    {
     "name": "stdout",
     "output_type": "stream",
     "text": [
      "sum data: 14757.0\n"
     ]
    }
   ],
   "source": [
    "sumdata = np.sum(data)\n",
    "print('sum data: {}'.format(sumdata))"
   ]
  },
  {
   "cell_type": "code",
   "execution_count": 39,
   "metadata": {},
   "outputs": [
    {
     "name": "stdout",
     "output_type": "stream",
     "text": [
      "6.14875\n"
     ]
    }
   ],
   "source": [
    "meandata = np.mean(data)\n",
    "print(meandata)"
   ]
  },
  {
   "cell_type": "markdown",
   "metadata": {},
   "source": [
    "It's also possbile to average over a single axis:"
   ]
  },
  {
   "cell_type": "code",
   "execution_count": 40,
   "metadata": {},
   "outputs": [
    {
     "data": {
      "text/plain": [
       "array([ 0.        ,  0.45      ,  1.11666667,  1.75      ,  2.43333333,\n",
       "        3.15      ,  3.8       ,  3.88333333,  5.23333333,  5.51666667,\n",
       "        5.95      ,  5.9       ,  8.35      ,  7.73333333,  8.36666667,\n",
       "        9.5       ,  9.58333333, 10.63333333, 11.56666667, 12.35      ,\n",
       "       13.25      , 11.96666667, 11.03333333, 10.16666667, 10.        ,\n",
       "        8.66666667,  9.15      ,  7.25      ,  7.33333333,  6.58333333,\n",
       "        6.06666667,  5.95      ,  5.11666667,  3.6       ,  3.3       ,\n",
       "        3.56666667,  2.48333333,  1.5       ,  1.13333333,  0.56666667])"
      ]
     },
     "execution_count": 40,
     "metadata": {},
     "output_type": "execute_result"
    }
   ],
   "source": [
    "np.mean(data, 0)"
   ]
  },
  {
   "cell_type": "markdown",
   "metadata": {},
   "source": [
    "## $\\color{green}{\\text{Excercise}}$\n",
    "\n",
    "Create array `a` with random elements of shape 1000 x 3.\n",
    "Select the second and third column (index 1 and 2) and calculate the mean for each of the columns (i.e. your answer should be an array with two elements)"
   ]
  },
  {
   "cell_type": "code",
   "execution_count": 41,
   "metadata": {},
   "outputs": [
    {
     "name": "stdout",
     "output_type": "stream",
     "text": [
      "(1000, 3)\n",
      "(1000, 2)\n",
      "[-0.00141304  0.03187608]\n"
     ]
    }
   ],
   "source": [
    "a = np.random.randn(1000,3)\n",
    "print(a.shape)\n",
    "\n",
    "a_select = a[:,[1,2]]\n",
    "print(a_select.shape)\n",
    "\n",
    "mean_select = a_select.mean(0)\n",
    "print(mean_select)"
   ]
  },
  {
   "cell_type": "markdown",
   "metadata": {},
   "source": [
    "## $\\color{green}{\\text{Excercise}}$\n",
    "\n",
    "Generate a 10 x 3 array of random numbers (using np.random.rand). From each row, find the column index of the element closest to 0.75. Make use of np.abs and np.argmin. The result should be a one-dimensional array of integers from 0 to 2."
   ]
  },
  {
   "cell_type": "code",
   "execution_count": 42,
   "metadata": {},
   "outputs": [
    {
     "name": "stdout",
     "output_type": "stream",
     "text": [
      "[[0.43782856 0.03499494 0.73373047]\n",
      " [0.46941886 0.93127614 0.56552764]\n",
      " [0.7140056  0.37403421 0.34125795]\n",
      " [0.21825539 0.10084512 0.97103153]\n",
      " [0.16626106 0.23639432 0.45816945]\n",
      " [0.61164269 0.73396225 0.53349648]\n",
      " [0.73546159 0.85381473 0.61366792]\n",
      " [0.09010828 0.10354612 0.65936031]\n",
      " [0.57622419 0.87430145 0.83516989]\n",
      " [0.50150095 0.06601244 0.85223743]]\n",
      "[2 1 0 2 2 1 0 2 2 2]\n"
     ]
    }
   ],
   "source": [
    "import numpy as np\n",
    "\n",
    "rand_array = np.random.rand(10,3)\n",
    "rand_array2 = rand_array - 0.75\n",
    "closest = np.argmin(np.abs(rand_array2),1)\n",
    "print(rand_array)\n",
    "print(closest)"
   ]
  },
  {
   "cell_type": "markdown",
   "metadata": {},
   "source": [
    "## $\\color{green}{\\text{Excercise}}$ operations\n",
    "\n",
    "Average the inflammation data over the first ten patients (rows) and plot them across time (columns). Then repeat it for the next ten patients and so on. Try putting all averages on a single plot"
   ]
  },
  {
   "cell_type": "code",
   "execution_count": 43,
   "metadata": {},
   "outputs": [
    {
     "data": {
      "image/png": "[encoded data removed]",
      "text/plain": [
       "<Figure size 432x288 with 1 Axes>"
      ]
     },
     "metadata": {
      "needs_background": "light"
     },
     "output_type": "display_data"
    }
   ],
   "source": [
    "import matplotlib.pylab as plt\n",
    "%matplotlib inline\n",
    "\n",
    "pat_0 = 0\n",
    "pat_last = 10\n",
    "while pat_last <= len(data):\n",
    "    ave_inflammation = np.mean(data[pat_0:pat_last], axis=0)\n",
    "    plt.plot(ave_inflammation)\n",
    "    pat_0 = pat_last\n",
    "    pat_last += 10\n",
    "    "
   ]
  },
  {
   "cell_type": "markdown",
   "metadata": {},
   "source": [
    "[Previous: Slices](slices.ipynb)<br>[Next: K-means clustering](k_means.ipynb)"
   ]
  },
  {
   "cell_type": "code",
   "execution_count": null,
   "metadata": {},
   "outputs": [],
   "source": []
  }
 ],
 "metadata": {
  "kernelspec": {
   "display_name": "Python 3",
   "language": "python",
   "name": "python3"
  },
  "language_info": {
   "codemirror_mode": {
    "name": "ipython",
    "version": 3
   },
   "file_extension": ".py",
   "mimetype": "text/x-python",
   "name": "python",
   "nbconvert_exporter": "python",
   "pygments_lexer": "ipython3",
   "version": "3.7.2"
  }
 },
 "nbformat": 4,
 "nbformat_minor": 2
}
