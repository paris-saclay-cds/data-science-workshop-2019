{
 "cells": [
  {
   "cell_type": "markdown",
   "metadata": {},
   "source": [
    "## Filtering data\n",
    "It's also possible to select elements (filter) based on a condition. "
   ]
  },
  {
   "cell_type": "code",
   "execution_count": 1,
   "metadata": {
    "collapsed": false
   },
   "outputs": [],
   "source": [
    "import numpy as np\n",
    "data = np.loadtxt(fname='../data/inflammation-01.csv', delimiter=',')"
   ]
  },
  {
   "cell_type": "markdown",
   "metadata": {},
   "source": [
    "Sometimes we may want to select array elements based on their values. For this case boolean mask is very useful. The mask is an array of the same length as the indexed array containg only False or True values:"
   ]
  },
  {
   "cell_type": "code",
   "execution_count": 2,
   "metadata": {
    "collapsed": false
   },
   "outputs": [
    {
     "name": "stdout",
     "output_type": "stream",
     "text": [
      "[0 1 2 3]\n"
     ]
    }
   ],
   "source": [
    "a = np.arange(4)\n",
    "print(a)"
   ]
  },
  {
   "cell_type": "code",
   "execution_count": 3,
   "metadata": {
    "collapsed": true
   },
   "outputs": [],
   "source": [
    "mask = np.array([False, True, True, False])"
   ]
  },
  {
   "cell_type": "code",
   "execution_count": 4,
   "metadata": {
    "collapsed": false
   },
   "outputs": [
    {
     "data": {
      "text/plain": [
       "array([1, 2])"
      ]
     },
     "execution_count": 4,
     "metadata": {},
     "output_type": "execute_result"
    }
   ],
   "source": [
    "a[mask]"
   ]
  },
  {
   "cell_type": "markdown",
   "metadata": {},
   "source": [
    "In most cases the mask is constructed from the values of the array itself. For example, to select only odd numbers we could use the following mask:"
   ]
  },
  {
   "cell_type": "code",
   "execution_count": 5,
   "metadata": {
    "collapsed": false
   },
   "outputs": [
    {
     "data": {
      "text/plain": [
       "array([False,  True, False,  True], dtype=bool)"
      ]
     },
     "execution_count": 5,
     "metadata": {},
     "output_type": "execute_result"
    }
   ],
   "source": [
    "odd = (a % 2) == 1\n",
    "odd"
   ]
  },
  {
   "cell_type": "code",
   "execution_count": 6,
   "metadata": {
    "collapsed": false
   },
   "outputs": [
    {
     "data": {
      "text/plain": [
       "array([1, 3])"
      ]
     },
     "execution_count": 6,
     "metadata": {},
     "output_type": "execute_result"
    }
   ],
   "source": [
    "np.array([False,  True, False,  True], dtype=bool)\n",
    "a[odd]"
   ]
  },
  {
   "cell_type": "markdown",
   "metadata": {},
   "source": [
    "This could be also done in a single step:"
   ]
  },
  {
   "cell_type": "code",
   "execution_count": 7,
   "metadata": {
    "collapsed": false
   },
   "outputs": [
    {
     "data": {
      "text/plain": [
       "array([1, 3])"
      ]
     },
     "execution_count": 7,
     "metadata": {},
     "output_type": "execute_result"
    }
   ],
   "source": [
    "a[(a % 2) == 1]"
   ]
  },
  {
   "cell_type": "markdown",
   "metadata": {},
   "source": [
    "## $\\color{green}{\\text{Excercise}}$ Filtering data\n",
    "In the `data` what do you have to do to select all measurments above 10 in the first patient (index 0)?"
   ]
  },
  {
   "cell_type": "code",
   "execution_count": 8,
   "metadata": {
    "collapsed": false
   },
   "outputs": [
    {
     "data": {
      "text/plain": [
       "array([ 12.,  18.,  13.,  11.,  11.])"
      ]
     },
     "execution_count": 8,
     "metadata": {},
     "output_type": "execute_result"
    }
   ],
   "source": [
    "patient0_data = data[0, :]\n",
    "patient0_data[patient0_data>10]"
   ]
  },
  {
   "cell_type": "markdown",
   "metadata": {},
   "source": [
    "We can also substitute the measurement with a new value:"
   ]
  },
  {
   "cell_type": "code",
   "execution_count": 9,
   "metadata": {
    "collapsed": false
   },
   "outputs": [
    {
     "name": "stdout",
     "output_type": "stream",
     "text": [
      "[  0.   1.   2.   1.   2.   1.   3.   2.   2.   6.  10.  10.   5.   9.   4.\n",
      "   4.   7.  10.   8.   6.  10.   4.  10.   5.  10.   7.  10.   5.  10.   3.\n",
      "   3.   5.   4.   4.   5.   5.   1.   1.   0.   1.]\n"
     ]
    }
   ],
   "source": [
    "patient1_data = data[1, :]\n",
    "patient1_data[patient1_data>10] = 10\n",
    "print(patient1_data)"
   ]
  },
  {
   "cell_type": "markdown",
   "metadata": {},
   "source": [
    "## Copy and view"
   ]
  },
  {
   "cell_type": "markdown",
   "metadata": {},
   "source": [
    "When the contents are physically stored in another location, it is called __Copy__. If on the other hand, a different view of the same memory content is provided, we call it as __View__.\n",
    "\n",
    "__view__ : it is another way of viewing the data of the array\n",
    " \n",
    "__copy__ : it does not share allocated memory with the original array"
   ]
  },
  {
   "cell_type": "markdown",
   "metadata": {},
   "source": [
    "## $\\color{green}{\\text{Excercise}}$ view or a copy\n",
    "Is `patient_data` view or a copy of `data`?"
   ]
  },
  {
   "cell_type": "code",
   "execution_count": 11,
   "metadata": {
    "collapsed": false
   },
   "outputs": [
    {
     "name": "stdout",
     "output_type": "stream",
     "text": [
      "[  0.   1.   1.   3.   3.   2.   6.   2.   5.   9.   5.   7.   4.   5.   4.\n",
      "  10.   5.  10.   9.  10.  10.  10.  10.  10.   7.  10.  10.   7.   4.   2.\n",
      "  10.   5.   4.   2.   2.   3.   2.   2.   1.   1.]\n",
      "[  0.   1.   1.   3.   3.   2.   6.   2.   5.   9.   5.   7.   4.   5.   4.\n",
      "  10.   5.  10.   9.  10.  10.  10.  10.  10.   7.  10.  10.   7.   4.   2.\n",
      "  10.   5.   4.   2.   2.   3.   2.   2.   1.   1.]\n",
      "[  0.   1.   1.   3.   3.   2.   6.   2.   5.   9.   5.   7.   4.   5.   4.\n",
      "  10.   5.  10.   9.  10.  10.  10.  10.  10.   7.  10.  10.   7.   4.   2.\n",
      "  10.   5.   4.   2.   2.   3.   2.   2.   1.   1.]\n"
     ]
    }
   ],
   "source": [
    "print(data[2, :])\n",
    "patient2_data = data[2, :]\n",
    "patient2_data[patient2_data>10] = 10\n",
    "print(patient2_data)\n",
    "print(data[2,:])"
   ]
  },
  {
   "cell_type": "markdown",
   "metadata": {},
   "source": [
    "## $\\color{green}{\\text{Quiz}}$  view or copy\n",
    "What are the final values of a and b at the end of the following program? Explain why.\n",
    "\n",
    "`a = np.arange(5)\n",
    "b = a[a < 3]\n",
    "b[::2] = 0`\n",
    "\n",
    "\n",
    "a)  a = [0, 1, 2, 3, 4], b = [0, 1, 2] <br>\n",
    "b)  a = [0, 1, 0, 3, 4], b = [0, 1, 0] <br>\n",
    "c)  a = [0, 0, 2, 3, 4], b = [0, 0, 2] <br>\n",
    "d)  a = [0, 1, 2, 3, 4], b = [0, 1, 0] <br>\n",
    "e)  a = [0, 1, 2, 3, 4], b = [0, 1, 0, 3, 0] <br>m"
   ]
  },
  {
   "cell_type": "markdown",
   "metadata": {},
   "source": [
    "[Previous: Working with a dataset](dataset_intro.ipynb)<br>[Next: Slices](slices.ipynb)"
   ]
  },
  {
   "cell_type": "code",
   "execution_count": null,
   "metadata": {
    "collapsed": true
   },
   "outputs": [],
   "source": []
  }
 ],
 "metadata": {
  "kernelspec": {
   "display_name": "Python3.6",
   "language": "python",
   "name": "py36"
  },
  "language_info": {
   "codemirror_mode": {
    "name": "ipython",
    "version": 3
   },
   "file_extension": ".py",
   "mimetype": "text/x-python",
   "name": "python",
   "nbconvert_exporter": "python",
   "pygments_lexer": "ipython3",
   "version": "3.6.2"
  }
 },
 "nbformat": 4,
 "nbformat_minor": 2
}
