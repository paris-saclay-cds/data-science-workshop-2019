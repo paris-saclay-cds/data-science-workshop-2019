{
 "cells": [
  {
   "cell_type": "markdown",
   "metadata": {},
   "source": [
    "# Introduction to Data Science in Python\n",
    "\n",
    "### Numpy tutorial, November, 28th 2019\n",
    "\n",
    "Working efficiently with multi-dimensional arrays in NumPy\n",
    "\n",
    "Maria Teleńczuk <br>\n",
    "email: telenczukm at gmail.com"
   ]
  },
  {
   "cell_type": "markdown",
   "metadata": {},
   "source": [
    "## Quick introduction to Jupyter notebook\n",
    "\n",
    "to run Jupyter notebook in your terminal type: <br>\n",
    "    `jupyter notebook`\n",
    "    \n",
    "alternatively you may want to run Jupyter lab which is more advanced product of jupyter: <br>\n",
    "    `jupyter lab`\n",
    "    \n",
    "**Esc** : takes you into command mode, there you can use:\n",
    " -  __a__ : insert a new cell above <br>\n",
    " -  __b__ : insert a new cell below <br>\n",
    " -  **m** : change the current cell to Markdown <br>\n",
    " -  **y** : change the current cell to code\n",
    "\n",
    "**Enter** : go back to edit mode\n",
    "    \n",
    "**Shift + Enter** : execute the cell, move to the cell below\n",
    "\n",
    "__?__ : help"
   ]
  },
  {
   "cell_type": "markdown",
   "metadata": {},
   "source": [
    "# Topics\n",
    "1. [Introduction to numpy](numpys/numpy_intro.ipynb)\n",
    "2. [Working with a dataset](numpys/dataset_intro.ipynb)\n",
    "3. [Filtering data](numpys/filtering_data.ipynb)\n",
    "4. [Slices](numpys/slices.ipynb)\n",
    "5. [Operations](numpys/operations.ipynb)\n",
    "6. [Stacking](numpys/stacking.ipynb) \n",
    "\n",
    "### Extra topics\n",
    "\n",
    "7. [K-means clustering](numpys/k_means.ipynb)\n",
    "8. [Savez() and load()](numpys/savez.ipynb)\n",
    "9. [Fancy indexing](numpys/fancy_indexing.ipynb)\n",
    "10. [Broadcasting](numpys/broadcasting.ipynb)\n",
    "11. [Test yourself](numpys/test_yourself.ipynb)"
   ]
  },
  {
   "cell_type": "markdown",
   "metadata": {},
   "source": [
    "## Based on material from:\n",
    " - Software Carpentry, [Python Novice inflammation](https://github.com/swcarpentry/python-novice-inflammation)\n",
    " - Paris Software Carpentry, [Advanced  numpy lesson](https://paris-swc.github.io/advanced-numpy-lesson/)\n",
    " - Bartosz Teleńczuk, [Advanced Numpy tutorial](https://github.com/paris-saclay-cds/data-science-workshop-2019/blob/master/Day_1_Scientific_Python/01-numpy-introduction.ipynb)\n",
    " "
   ]
  },
  {
   "cell_type": "markdown",
   "metadata": {},
   "source": [
    " ### You might also like:\n",
    "  - Gaël Varoquaux, Emmanuelle Gouillart and Olav Vahtras (editors), [SciPy Lectures](http://scipy-lectures.org/)\n",
    "  - NumPy community, [NumPy Docs](https://docs.scipy.org/doc/numpy/)\n",
    "  - Juan Nuñez-Iglesias, [Lecture on Advanced NumPy patterns](https://github.com/jni/aspp2015)\n",
    "  - Stéfan van der Walt, [Advanced NumPy tutorial](https://python.g-node.org/python-summerschool-2014/numpy.html)\n",
    "  - Nicolas Rougier, [100 NumPy exercises](https://github.com/rougier/numpy-100)\n",
    "  - Bartosz Teleńczuk, [Advanced NumPy lesson](https://github.com/paris-swc/advanced-numpy-lesson)"
   ]
  }
 ],
 "metadata": {
  "kernelspec": {
   "display_name": "Python 3",
   "language": "python",
   "name": "python3"
  },
  "language_info": {
   "codemirror_mode": {
    "name": "ipython",
    "version": 3
   },
   "file_extension": ".py",
   "mimetype": "text/x-python",
   "name": "python",
   "nbconvert_exporter": "python",
   "pygments_lexer": "ipython3",
   "version": "3.7.2"
  }
 },
 "nbformat": 4,
 "nbformat_minor": 2
}
