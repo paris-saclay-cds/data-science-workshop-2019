{
 "cells": [
  {
   "cell_type": "markdown",
   "metadata": {},
   "source": [
    "## Slices"
   ]
  },
  {
   "cell_type": "markdown",
   "metadata": {},
   "source": [
    "You can select ranges of elements using slices. "
   ]
  },
  {
   "cell_type": "code",
   "execution_count": null,
   "metadata": {},
   "outputs": [],
   "source": [
    "import numpy as np"
   ]
  },
  {
   "cell_type": "code",
   "execution_count": null,
   "metadata": {},
   "outputs": [],
   "source": [
    "data = np.loadtxt(fname='../data/inflammation-01.csv', delimiter=',')"
   ]
  },
  {
   "cell_type": "markdown",
   "metadata": {},
   "source": [
    "To select first two columns from the first row, you can use:"
   ]
  },
  {
   "cell_type": "code",
   "execution_count": null,
   "metadata": {},
   "outputs": [],
   "source": [
    "data[0, 0:2]"
   ]
  },
  {
   "cell_type": "markdown",
   "metadata": {},
   "source": [
    "Note that the returned array does not include third column (with index 2). The slice 0:2 means, “Start at index 0 and go up to, but not including, index 2.”"
   ]
  },
  {
   "cell_type": "markdown",
   "metadata": {},
   "source": [
    "You can skip the first or last index (which means, take the values from the beginning or to the end):"
   ]
  },
  {
   "cell_type": "code",
   "execution_count": null,
   "metadata": {},
   "outputs": [],
   "source": [
    "data[0, :2]"
   ]
  },
  {
   "cell_type": "markdown",
   "metadata": {},
   "source": [
    "If you omit both indices in the slice leaving out only the colon (:), you will get all columns of this row:"
   ]
  },
  {
   "cell_type": "code",
   "execution_count": null,
   "metadata": {},
   "outputs": [],
   "source": [
    "data[0, :]"
   ]
  },
  {
   "cell_type": "markdown",
   "metadata": {},
   "source": [
    "You can also slice at both dimensions"
   ]
  },
  {
   "cell_type": "code",
   "execution_count": null,
   "metadata": {},
   "outputs": [],
   "source": [
    "print(data[5:10, 0:10])"
   ]
  },
  {
   "cell_type": "markdown",
   "metadata": {},
   "source": [
    "## $\\color{green}{\\text{Excercise}}$\n",
    "\n",
    "Select rows 0 through 2 and columns 36 through to the end of the array."
   ]
  },
  {
   "cell_type": "code",
   "execution_count": null,
   "metadata": {},
   "outputs": [],
   "source": [
    "data[:3, 36:]"
   ]
  },
  {
   "cell_type": "markdown",
   "metadata": {},
   "source": [
    "## $\\color{green}{\\text{Quiz}}$ \n",
    "\n",
    "Imagine the following array a:\n",
    "\n",
    "`>> print(a)` <br>\n",
    "[0, 5, 8, 10]\n",
    "\n",
    "Which of the following commands will give this output:\n",
    "\n",
    "[5, 8]\n",
    "\n",
    "a) print(a[1, 2])\n",
    "\n",
    "b) print(a[2:3])\n",
    "\n",
    "c) print(a[1:2])\n",
    "\n",
    "d) print(a[[1, 2]])\n",
    "\n",
    "e) print(a[a<10])\n",
    "\n",
    "You can test your guess by creating the a array:\n",
    "\n",
    "a = np.array([0, 5, 8, 10])"
   ]
  },
  {
   "cell_type": "markdown",
   "metadata": {},
   "source": [
    "You can assign elements with slices and indexes:"
   ]
  },
  {
   "cell_type": "code",
   "execution_count": null,
   "metadata": {},
   "outputs": [],
   "source": [
    "a = np.arange(9)\n",
    "print(a)"
   ]
  },
  {
   "cell_type": "code",
   "execution_count": null,
   "metadata": {},
   "outputs": [],
   "source": [
    "a[1:8:2]=1000\n",
    "print(a)"
   ]
  },
  {
   "cell_type": "markdown",
   "metadata": {},
   "source": [
    "## View and Copy\n",
    "\n",
    "When the contents are physically stored in another location, it is called __Copy__. If on the other hand, a different view of the same memory content is provided, we call it as __View__.\n",
    "\n",
    "__view__ : it is another way of viewing the data of the array\n",
    "\n",
    "__copy__ : it does not share allocated memory with the original array"
   ]
  },
  {
   "cell_type": "markdown",
   "metadata": {},
   "source": [
    "__Slicing__ an array will result in a __view__:"
   ]
  },
  {
   "cell_type": "code",
   "execution_count": null,
   "metadata": {},
   "outputs": [],
   "source": [
    "a = np.arange(9)\n",
    "print('a old:{}'.format(a))\n",
    "b = a[6:9]\n",
    "print('b old:{}'.format(b))\n",
    "b[0] = 2\n",
    "print('a:{}'.format(a))\n",
    "print('b:{}'.format(b))"
   ]
  },
  {
   "cell_type": "markdown",
   "metadata": {},
   "source": [
    "Whereas __masking__ an array will give a __copy__:"
   ]
  },
  {
   "cell_type": "code",
   "execution_count": null,
   "metadata": {},
   "outputs": [],
   "source": [
    "a = np.arange(9)\n",
    "print('a old:{}'.format(a))\n",
    "b = a[a > 5]\n",
    "print('b old:{}'.format(b))\n",
    "b[0] = 2\n",
    "print('a:{}'.format(a))\n",
    "print('b:{}'.format(b))"
   ]
  },
  {
   "cell_type": "markdown",
   "metadata": {},
   "source": [
    "## $\\color{green}{\\text{Quiz}}$  view or copy\n",
    "What are the final values of a and b at the end of the following program? Explain why.\n",
    "\n",
    "```\n",
    "a = np.arange(5)\n",
    "b = a[a < 3]\n",
    "b[::2] = 0\n",
    "```\n",
    "\n",
    "\n",
    "a)  a = [0, 1, 2, 3, 4], b = [0, 1, 2] <br>\n",
    "b)  a = [0, 1, 0, 3, 4], b = [0, 1, 0] <br>\n",
    "c)  a = [0, 0, 2, 3, 4], b = [0, 0, 2] <br>\n",
    "d)  a = [0, 1, 2, 3, 4], b = [0, 1, 0] <br>\n",
    "e)  a = [0, 1, 2, 3, 4], b = [0, 1, 0, 3, 0] <br>"
   ]
  },
  {
   "cell_type": "markdown",
   "metadata": {},
   "source": [
    "## $\\color{green}{\\text{Excercise}}$ view or copy\n",
    "\n",
    "Create an array of values from 0 to 11. Create another array as follows: y = x[2]. What happens when you modify y — does x also change?<br>\n",
    "Now try y = x[:2] and modify it’s first element. What happens now?"
   ]
  },
  {
   "cell_type": "code",
   "execution_count": null,
   "metadata": {},
   "outputs": [],
   "source": [
    "x = np.arange(0,12)\n",
    "y = x[2]\n",
    "print(x)\n",
    "print(y)\n",
    "y = 10\n",
    "print(x)"
   ]
  },
  {
   "cell_type": "code",
   "execution_count": null,
   "metadata": {},
   "outputs": [],
   "source": [
    "y = x[:2]\n",
    "y[0] = 10\n",
    "print(y)\n",
    "print(x)"
   ]
  },
  {
   "cell_type": "markdown",
   "metadata": {},
   "source": [
    "## $\\color{green}{\\text{Excercise}}$ checkerboard\n",
    "    \n",
    "Create 8x8 array of zeros and fill it with a checkerboard pattern . \n",
    "You can use plt.imshow() to visualize your array\n"
   ]
  },
  {
   "cell_type": "code",
   "execution_count": null,
   "metadata": {},
   "outputs": [],
   "source": [
    "import matplotlib.pylab as plt\n",
    "%matplotlib inline\n",
    "\n",
    "checkerboard = np.zeros((8,8))\n",
    "checkerboard[1::2,::2] = 1\n",
    "checkerboard[::2,1::2] = 1\n",
    "plt.imshow(checkerboard)"
   ]
  },
  {
   "cell_type": "markdown",
   "metadata": {},
   "source": [
    "[Previous: Filtering data](filtering_data.ipynb)<br>[Next: Operations](operations.ipynb)"
   ]
  }
 ],
 "metadata": {
  "kernelspec": {
   "display_name": "Python 3",
   "language": "python",
   "name": "python3"
  },
  "language_info": {
   "codemirror_mode": {
    "name": "ipython",
    "version": 3
   },
   "file_extension": ".py",
   "mimetype": "text/x-python",
   "name": "python",
   "nbconvert_exporter": "python",
   "pygments_lexer": "ipython3",
   "version": "3.7.2"
  }
 },
 "nbformat": 4,
 "nbformat_minor": 2
}
