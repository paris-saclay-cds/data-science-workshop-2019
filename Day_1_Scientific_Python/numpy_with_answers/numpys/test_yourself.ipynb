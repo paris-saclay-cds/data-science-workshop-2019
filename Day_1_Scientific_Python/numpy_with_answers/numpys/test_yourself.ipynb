{
 "cells": [
  {
   "cell_type": "markdown",
   "metadata": {},
   "source": [
    "## $\\color{green}{\\text{Excercise}}$ Rectification\n",
    "\n",
    "Rectify an array (replace negative elements with zeros) of random numbers from normal distribution (generated with np.random.randn) using boolean indexing."
   ]
  },
  {
   "cell_type": "markdown",
   "metadata": {},
   "source": [
    "## $\\color{green}{\\text{Excercise}}$ Sub-arrays\n",
    "\n",
    "Let \n",
    "`x = np.array([1, 5, 10])`.\n",
    "\n",
    "Which of the following will show `[1, 10]`:\n",
    "\n",
    "a)    x[::2]\n",
    "\n",
    "b)    x[[1, 3]]\n",
    "\n",
    "c)    x[[0, 2]]\n",
    "\n",
    "d)    x[0, 2]\n",
    "\n",
    "e)    x[[1, -1]]\n",
    "\n",
    "f)    x[[False, True, False]]\n",
    "\n",
    "For each statement predict whether it returns a copy or a view."
   ]
  },
  {
   "cell_type": "markdown",
   "metadata": {},
   "source": [
    "## $\\color{green}{\\text{Excercise}}$ Random elements\n",
    "\n",
    "Using fancy indexing select randomly with repetition 10 elements from a random array of 100 elements (Hint: you can use np.random.randint(max_int, size=n) to generate n random numbers from 0 to max_int)"
   ]
  },
  {
   "cell_type": "markdown",
   "metadata": {},
   "source": [
    "## $\\color{green}{\\text{Excercise}}$ Drawing random integers without repetition\n",
    "\n",
    "Generate a random sequence of 10 integers from 1 to 100 without repetition (Hint: you may want to use np.random.rand and np.argsort)."
   ]
  },
  {
   "cell_type": "markdown",
   "metadata": {},
   "source": [
    "## $\\color{green}{\\text{Excercise}}$\n",
    "\n",
    "Generate a 10 x 3 array of random numbers (using np.random.rand). From each row, find the column index of the element closest to 0.75. Make use of np.abs and np.argmin. The result should be a one-dimensional array of integers from 0 to 2."
   ]
  },
  {
   "cell_type": "code",
   "execution_count": null,
   "metadata": {},
   "outputs": [],
   "source": [
    "import numpy as np\n",
    "\n",
    "rand_array = np.random.rand(10,3)\n",
    "rand_array2 = rand_array - 0.75\n",
    "closest = np.argmin(np.abs(rand_array2),1)\n",
    "print(rand_array)\n",
    "print(closest)"
   ]
  },
  {
   "cell_type": "markdown",
   "metadata": {},
   "source": [
    "[Previous: Broadcasting](broadcasting.ipynb)<br>[Back to index](../01-numpy-introduction.ipynb)"
   ]
  },
  {
   "cell_type": "code",
   "execution_count": null,
   "metadata": {},
   "outputs": [],
   "source": []
  }
 ],
 "metadata": {
  "kernelspec": {
   "display_name": "Python 3",
   "language": "python",
   "name": "python3"
  },
  "language_info": {
   "codemirror_mode": {
    "name": "ipython",
    "version": 3
   },
   "file_extension": ".py",
   "mimetype": "text/x-python",
   "name": "python",
   "nbconvert_exporter": "python",
   "pygments_lexer": "ipython3",
   "version": "3.7.2"
  }
 },
 "nbformat": 4,
 "nbformat_minor": 2
}
